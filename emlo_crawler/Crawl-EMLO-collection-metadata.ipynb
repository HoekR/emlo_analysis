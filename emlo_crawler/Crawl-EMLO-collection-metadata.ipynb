{
 "cells": [
  {
   "cell_type": "code",
   "execution_count": 40,
   "metadata": {},
   "outputs": [],
   "source": [
    "# This reload library is just used for developing the REPUBLIC hOCR parser \n",
    "# and can be removed once this module is stable.\n",
    "%reload_ext autoreload\n",
    "%autoreload 2\n",
    "\n",
    "\n"
   ]
  },
  {
   "cell_type": "code",
   "execution_count": 58,
   "metadata": {},
   "outputs": [
    {
     "data": {
      "text/plain": [
       "'http://emlo.bodleian.ox.ac.uk/forms/advanced?col_cat=Plantin%2C+Christophe&start=0'"
      ]
     },
     "execution_count": 58,
     "metadata": {},
     "output_type": "execute_result"
    }
   ],
   "source": [
    "from crawler import EMLOCrawler\n",
    "\n",
    "collections = [\n",
    "    {\n",
    "        'collection_name': 'Scaliger, Joseph Justus',\n",
    "        'print_name': 'Joseph_Justus_Scaliger',\n",
    "        'search_name': 'Scaliger%2C+Joseph+Justus',\n",
    "        'category': ['classical scholar'],\n",
    "        'nationality': 'French'\n",
    "    },\n",
    "    {\n",
    "        'collection_name': 'Plantin, Christophe',\n",
    "        'print_name': 'Christophe_Plantin',\n",
    "        'search_name': 'Plantin%2C+Christophe',\n",
    "        'category': ['bookbinder and printer', 'humanist'],\n",
    "        'nationality': 'French'\n",
    "    },\n",
    "]\n",
    "\n",
    "collection = collections[1]\n",
    "\n",
    "crawler = EMLOCrawler()\n",
    "crawler.set_collection(collection['collection_name'], collection['search_name'])\n",
    "\n",
    "# Example search results URL\n",
    "crawler.make_results_page_url()\n"
   ]
  },
  {
   "cell_type": "code",
   "execution_count": 59,
   "metadata": {},
   "outputs": [
    {
     "name": "stdout",
     "output_type": "stream",
     "text": [
      "{'collection_name': 'Plantin, Christophe', 'print_name': 'Christophe Plantin', 'search_name': 'Plantin%2C+Christophe', 'category': ['bookbinder and printer', 'humanist'], 'nationality': 'French'}\n",
      "retrieving results starting from 0\n",
      "50 of 1515 retrieved\n",
      "retrieving results starting from 50\n",
      "100 of 1515 retrieved\n",
      "retrieving results starting from 100\n",
      "150 of 1515 retrieved\n",
      "retrieving results starting from 150\n",
      "200 of 1515 retrieved\n",
      "retrieving results starting from 200\n",
      "250 of 1515 retrieved\n",
      "retrieving results starting from 250\n",
      "300 of 1515 retrieved\n",
      "retrieving results starting from 300\n",
      "350 of 1515 retrieved\n",
      "retrieving results starting from 350\n",
      "400 of 1515 retrieved\n",
      "retrieving results starting from 400\n",
      "450 of 1515 retrieved\n",
      "retrieving results starting from 450\n",
      "500 of 1515 retrieved\n",
      "retrieving results starting from 500\n",
      "550 of 1515 retrieved\n",
      "retrieving results starting from 550\n",
      "600 of 1515 retrieved\n",
      "retrieving results starting from 600\n",
      "650 of 1515 retrieved\n",
      "retrieving results starting from 650\n",
      "700 of 1515 retrieved\n",
      "retrieving results starting from 700\n",
      "750 of 1515 retrieved\n",
      "retrieving results starting from 750\n",
      "800 of 1515 retrieved\n",
      "retrieving results starting from 800\n",
      "850 of 1515 retrieved\n",
      "retrieving results starting from 850\n",
      "900 of 1515 retrieved\n",
      "retrieving results starting from 900\n",
      "950 of 1515 retrieved\n",
      "retrieving results starting from 950\n",
      "1000 of 1515 retrieved\n",
      "retrieving results starting from 1000\n",
      "1050 of 1515 retrieved\n",
      "retrieving results starting from 1050\n",
      "1100 of 1515 retrieved\n",
      "retrieving results starting from 1100\n",
      "1150 of 1515 retrieved\n",
      "retrieving results starting from 1150\n",
      "1200 of 1515 retrieved\n",
      "retrieving results starting from 1200\n",
      "1250 of 1515 retrieved\n",
      "retrieving results starting from 1250\n",
      "1300 of 1515 retrieved\n",
      "retrieving results starting from 1300\n",
      "1350 of 1515 retrieved\n",
      "retrieving results starting from 1350\n",
      "1400 of 1515 retrieved\n",
      "retrieving results starting from 1400\n",
      "1450 of 1515 retrieved\n",
      "retrieving results starting from 1450\n",
      "1500 of 1515 retrieved\n",
      "retrieving results starting from 1500\n",
      "1515 of 1515 retrieved\n"
     ]
    }
   ],
   "source": [
    "# Results pages have 50 results each\n",
    "collection = collections[1]\n",
    "print(collection)\n",
    "emlo_docs = crawler.crawl_collection(collection)\n"
   ]
  },
  {
   "cell_type": "code",
   "execution_count": 60,
   "metadata": {},
   "outputs": [],
   "source": [
    "import json\n",
    "\n",
    "out_file = f\"../emlo_collections/{collection['print_name']}.json\"\n",
    "with open(out_file, 'wt') as fh:\n",
    "    json.dump([emlo_doc.json() for emlo_doc in emlo_docs], fh)"
   ]
  },
  {
   "cell_type": "code",
   "execution_count": null,
   "metadata": {},
   "outputs": [],
   "source": []
  }
 ],
 "metadata": {
  "kernelspec": {
   "display_name": "Python 3",
   "language": "python",
   "name": "python3"
  },
  "language_info": {
   "codemirror_mode": {
    "name": "ipython",
    "version": 3
   },
   "file_extension": ".py",
   "mimetype": "text/x-python",
   "name": "python",
   "nbconvert_exporter": "python",
   "pygments_lexer": "ipython3",
   "version": "3.6.2"
  }
 },
 "nbformat": 4,
 "nbformat_minor": 2
}
