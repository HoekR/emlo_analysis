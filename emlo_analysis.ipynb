{
 "cells": [
  {
   "cell_type": "markdown",
   "metadata": {},
   "source": [
    "# Data Scopes at a scale: Analyzing EMLO\n",
    "\n",
    "\n",
    "For the Data Scopes at a scale article we wanted a dataset to analyze on different scales. A collection of letters seemed a good choice as \n",
    "\n",
    "- letters are objects more or less familiar to most humanities scholars \n",
    "- letters can be studied at many different scales: a single letter is as much a viable object of study as a large collection of letters and anything in between\n",
    "    \n",
    "We opted for the Early Modern Letters Online (http://emlo.bodleian.ox.ac.uk) collection compiled by the Oxford Bodleian Library in cooperation with a host of other institutes. At the time of writing (March 2020) it contains 51 collections covering both the diplomatic and the scientific and cultural world and spans more than three centuries, with the first letter from 1506 and the last from 1837. \n",
    "\n",
    "The collection is not available for download, so we had to do some web scraping to get the information ready for analysis."
   ]
  },
  {
   "cell_type": "code",
   "execution_count": 1,
   "metadata": {},
   "outputs": [],
   "source": [
    "import pandas as pd\n"
   ]
  },
  {
   "cell_type": "markdown",
   "metadata": {},
   "source": [
    "## Collection overview\n",
    "\n",
    "EMLO has an overview page of its collections, with the number of letters. "
   ]
  },
  {
   "cell_type": "markdown",
   "metadata": {},
   "source": [
    "the site is dynamic, so we cannot read it directly using pandas, but use request to store it on our desktop. "
   ]
  },
  {
   "cell_type": "code",
   "execution_count": 35,
   "metadata": {},
   "outputs": [],
   "source": [
    "import requests"
   ]
  },
  {
   "cell_type": "code",
   "execution_count": 37,
   "metadata": {},
   "outputs": [],
   "source": [
    "r = requests.get('http://emlo.bodleian.ox.ac.uk/vis/chronology')"
   ]
  },
  {
   "cell_type": "code",
   "execution_count": 41,
   "metadata": {},
   "outputs": [],
   "source": [
    "with open(\"/Users/rikhoekstra/Desktop/Early Modern Letters Online   Chronology.html\") as flin:\n",
    "    df = pd.read_html(flin.read())\n",
    "\n",
    "# throw out the 'all_catalogs' row with df.drop(0)"
   ]
  },
  {
   "cell_type": "code",
   "execution_count": 51,
   "metadata": {},
   "outputs": [
    {
     "data": {
      "text/plain": [
       "<matplotlib.axes._subplots.AxesSubplot at 0x11d0da198>"
      ]
     },
     "execution_count": 51,
     "metadata": {},
     "output_type": "execute_result"
    },
    {
     "data": {
      "image/png": "[encoded data removed]",
      "text/plain": [
       "<Figure size 432x288 with 1 Axes>"
      ]
     },
     "metadata": {
      "needs_background": "light"
     },
     "output_type": "display_data"
    }
   ],
   "source": [
    "df[\"Letters with years▼▲\"].value_counts().plot.line()"
   ]
  },
  {
   "cell_type": "code",
   "execution_count": 55,
   "metadata": {},
   "outputs": [
    {
     "data": {
      "text/plain": [
       "121      2\n",
       "80       2\n",
       "1136     1\n",
       "282      1\n",
       "41690    1\n",
       "2457     1\n",
       "939      1\n",
       "85       1\n",
       "8020     1\n",
       "335      1\n",
       "274      1\n",
       "72       1\n",
       "450      1\n",
       "99       1\n",
       "97504    1\n",
       "651      1\n",
       "143      1\n",
       "8        1\n",
       "4244     1\n",
       "2000     1\n",
       "48       1\n",
       "3        1\n",
       "2114     1\n",
       "106      1\n",
       "28       1\n",
       "712      1\n",
       "1584     1\n",
       "170      1\n",
       "253      1\n",
       "380      1\n",
       "1659     1\n",
       "504      1\n",
       "2524     1\n",
       "309      1\n",
       "1352     1\n",
       "49       1\n",
       "3696     1\n",
       "172      1\n",
       "290      1\n",
       "1899     1\n",
       "1160     1\n",
       "553      1\n",
       "1835     1\n",
       "505      1\n",
       "3046     1\n",
       "299      1\n",
       "932      1\n",
       "931      1\n",
       "7104     1\n",
       "Name: Letters with years▼▲, dtype: int64"
      ]
     },
     "execution_count": 55,
     "metadata": {},
     "output_type": "execute_result"
    }
   ],
   "source": [
    "df[\"Letters with years▼▲\"].value_counts()"
   ]
  },
  {
   "cell_type": "code",
   "execution_count": null,
   "metadata": {},
   "outputs": [],
   "source": []
  },
  {
   "cell_type": "code",
   "execution_count": 10,
   "metadata": {},
   "outputs": [],
   "source": [
    "import string\n",
    "dfs = {}\n",
    "for letter in string.ascii_lowercase:\n",
    "    dfs[letter] = pd.read_html(\"http://emlo.bodleian.ox.ac.uk/browse/people?letter=%s\" % letter)"
   ]
  },
  {
   "cell_type": "code",
   "execution_count": 21,
   "metadata": {},
   "outputs": [],
   "source": [
    "dfss = { }\n",
    "for l in dfs.keys():\n",
    "    try:\n",
    "        dfss[l] = dfs[l][0]\n",
    "    except TypeError:\n",
    "        print (dfs[l][0])"
   ]
  },
  {
   "cell_type": "code",
   "execution_count": 23,
   "metadata": {},
   "outputs": [],
   "source": [
    "aldf = pd.concat(dfss)"
   ]
  },
  {
   "cell_type": "code",
   "execution_count": 30,
   "metadata": {},
   "outputs": [
    {
     "data": {
      "text/plain": [
       "<matplotlib.axes._subplots.AxesSubplot at 0x12036cbe0>"
      ]
     },
     "execution_count": 30,
     "metadata": {},
     "output_type": "execute_result"
    },
    {
     "data": {
      "image/png": "[encoded data removed]",
      "text/plain": [
       "<Figure size 432x288 with 1 Axes>"
      ]
     },
     "metadata": {
      "needs_background": "light"
     },
     "output_type": "display_data"
    }
   ],
   "source": [
    "x = aldf['Letters Written']\n",
    "x.value_counts().plot.line()"
   ]
  },
  {
   "cell_type": "code",
   "execution_count": 31,
   "metadata": {},
   "outputs": [
    {
     "data": {
      "text/plain": [
       "<matplotlib.axes._subplots.AxesSubplot at 0x11d9dd208>"
      ]
     },
     "execution_count": 31,
     "metadata": {},
     "output_type": "execute_result"
    },
    {
     "data": {
      "image/png": "[encoded data removed]",
      "text/plain": [
       "<Figure size 432x288 with 1 Axes>"
      ]
     },
     "metadata": {
      "needs_background": "light"
     },
     "output_type": "display_data"
    }
   ],
   "source": [
    "y = aldf['Letters Received']\n",
    "y.value_counts().plot.line()"
   ]
  },
  {
   "cell_type": "code",
   "execution_count": 32,
   "metadata": {},
   "outputs": [
    {
     "data": {
      "text/plain": [
       "<matplotlib.axes._subplots.AxesSubplot at 0x11d9d3438>"
      ]
     },
     "execution_count": 32,
     "metadata": {},
     "output_type": "execute_result"
    },
    {
     "data": {
      "image/png": "[encoded data removed]",
      "text/plain": [
       "<Figure size 432x288 with 1 Axes>"
      ]
     },
     "metadata": {
      "needs_background": "light"
     },
     "output_type": "display_data"
    }
   ],
   "source": [
    "z = aldf[\"Letters Mentioning\"]\n",
    "z.value_counts().plot.line()"
   ]
  },
  {
   "cell_type": "markdown",
   "metadata": {},
   "source": [
    "Analysis\n",
    "\n"
   ]
  },
  {
   "cell_type": "code",
   "execution_count": 56,
   "metadata": {},
   "outputs": [
    {
     "data": {
      "text/plain": [
       "51"
      ]
     },
     "execution_count": 56,
     "metadata": {},
     "output_type": "execute_result"
    }
   ],
   "source": [
    "len(df)"
   ]
  },
  {
   "cell_type": "code",
   "execution_count": null,
   "metadata": {},
   "outputs": [],
   "source": []
  }
 ],
 "metadata": {
  "kernelspec": {
   "display_name": "Python 3",
   "language": "python",
   "name": "python3"
  },
  "language_info": {
   "codemirror_mode": {
    "name": "ipython",
    "version": 3
   },
   "file_extension": ".py",
   "mimetype": "text/x-python",
   "name": "python",
   "nbconvert_exporter": "python",
   "pygments_lexer": "ipython3",
   "version": "3.7.2"
  }
 },
 "nbformat": 4,
 "nbformat_minor": 4
}
